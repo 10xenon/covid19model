{
 "cells": [
  {
   "cell_type": "code",
   "execution_count": 76,
   "metadata": {},
   "outputs": [],
   "source": [
    "import sys\n",
    "sys.path.append(\"..\")"
   ]
  },
  {
   "cell_type": "code",
   "execution_count": 77,
   "metadata": {},
   "outputs": [
    {
     "name": "stdout",
     "output_type": "stream",
     "text": [
      "The autoreload extension is already loaded. To reload it, use:\n",
      "  %reload_ext autoreload\n"
     ]
    }
   ],
   "source": [
    "%load_ext autoreload\n",
    "%autoreload 2"
   ]
  },
  {
   "cell_type": "code",
   "execution_count": 78,
   "metadata": {},
   "outputs": [],
   "source": [
    "from Python.dataset import HierarchicalDataset\n",
    "import pandas as pd"
   ]
  },
  {
   "cell_type": "code",
   "execution_count": 79,
   "metadata": {},
   "outputs": [
    {
     "name": "stderr",
     "output_type": "stream",
     "text": [
      "../Python/dataset.py:48: SettingWithCopyWarning: \n",
      "A value is trying to be set on a copy of a slice from a DataFrame\n",
      "\n",
      "See the caveats in the documentation: https://pandas.pydata.org/pandas-docs/stable/user_guide/indexing.html#returning-a-view-versus-a-copy\n",
      "  ifr[\"country\"][ifr[\"country\"] == \"United Kingdom\"] = \"United_Kingdom\"\n",
      "../Python/dataset.py:64: SettingWithCopyWarning: \n",
      "A value is trying to be set on a copy of a slice from a DataFrame\n",
      "\n",
      "See the caveats in the documentation: https://pandas.pydata.org/pandas-docs/stable/user_guide/indexing.html#returning-a-view-versus-a-copy\n",
      "  covariates[covariate_name][ind] = covariates[\"lockdown\"][ind]\n"
     ]
    }
   ],
   "source": [
    "dataset = HierarchicalDataset(config_dir=\"../config/catalog.yml\", \n",
    "                              cases_dir=\"../data/COVID-19-up-to-date.csv\", \n",
    "                              ifr_dir=\"../data/weighted_fatality.csv\", \n",
    "                              serial_interval_dir=\"../data/serial_interval.csv\", \n",
    "                              interventions_dir=\"../data/interventions.csv\")"
   ]
  },
  {
   "cell_type": "code",
   "execution_count": 80,
   "metadata": {
    "scrolled": true
   },
   "outputs": [
    {
     "name": "stderr",
     "output_type": "stream",
     "text": [
      "../Python/dataset.py:109: SettingWithCopyWarning: \n",
      "A value is trying to be set on a copy of a slice from a DataFrame.\n",
      "Try using .loc[row_indexer,col_indexer] = value instead\n",
      "\n",
      "See the caveats in the documentation: https://pandas.pydata.org/pandas-docs/stable/user_guide/indexing.html#returning-a-view-versus-a-copy\n",
      "  pd.to_datetime, format='%d/%m/%Y')\n",
      "../Python/dataset.py:111: SettingWithCopyWarning: \n",
      "A value is trying to be set on a copy of a slice from a DataFrame.\n",
      "Try using .loc[row_indexer,col_indexer] = value instead\n",
      "\n",
      "See the caveats in the documentation: https://pandas.pydata.org/pandas-docs/stable/user_guide/indexing.html#returning-a-view-versus-a-copy\n",
      "  cases[\"t\"] = cases[\"date\"].apply(lambda v: dt_to_dec(v))\n"
     ]
    },
    {
     "name": "stdout",
     "output_type": "stream",
     "text": [
      "First non-zero cases is on day 58, and 30 days before 5 days is day 52\n",
      "Denmark has 37 of data\n",
      "First non-zero cases is on day 31, and 30 days before 5 days is day 27\n",
      "Italy has 62 of data\n",
      "First non-zero cases is on day 28, and 30 days before 5 days is day 46\n",
      "Germany has 43 of data\n",
      "First non-zero cases is on day 32, and 30 days before 5 days is day 40\n",
      "Spain has 49 of data\n",
      "First non-zero cases is on day 31, and 30 days before 5 days is day 43\n",
      "United_Kingdom has 46 of data\n",
      "First non-zero cases is on day 25, and 30 days before 5 days is day 38\n",
      "France has 51 of data\n",
      "First non-zero cases is on day 58, and 30 days before 5 days is day 55\n",
      "Norway has 34 of data\n",
      "First non-zero cases is on day 35, and 30 days before 5 days is day 49\n",
      "Belgium has 40 of data\n",
      "First non-zero cases is on day 57, and 30 days before 5 days is day 53\n",
      "Austria has 36 of data\n",
      "First non-zero cases is on day 32, and 30 days before 5 days is day 49\n",
      "Sweden has 40 of data\n",
      "First non-zero cases is on day 57, and 30 days before 5 days is day 45\n",
      "Switzerland has 44 of data\n"
     ]
    }
   ],
   "source": [
    "stan_data = dataset.get_stan_data(75)"
   ]
  },
  {
   "cell_type": "code",
   "execution_count": null,
   "metadata": {},
   "outputs": [],
   "source": []
  },
  {
   "cell_type": "code",
   "execution_count": null,
   "metadata": {},
   "outputs": [],
   "source": []
  }
 ],
 "metadata": {
  "kernelspec": {
   "display_name": "covid19model",
   "language": "python",
   "name": "covid19model"
  },
  "language_info": {
   "codemirror_mode": {
    "name": "ipython",
    "version": 3
   },
   "file_extension": ".py",
   "mimetype": "text/x-python",
   "name": "python",
   "nbconvert_exporter": "python",
   "pygments_lexer": "ipython3",
   "version": "3.7.7"
  }
 },
 "nbformat": 4,
 "nbformat_minor": 4
}
